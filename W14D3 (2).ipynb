{
 "cells": [
  {
   "cell_type": "markdown",
   "id": "942a0b1c-6436-41ce-9a4f-b008360fd2bb",
   "metadata": {},
   "source": [
    "# PYTHON W14D3 - PRATICA"
   ]
  },
  {
   "cell_type": "markdown",
   "id": "a52c392b-95af-4f7c-b524-5cc1a05c8602",
   "metadata": {},
   "source": [
    "## Es. 1"
   ]
  },
  {
   "cell_type": "markdown",
   "id": "85115914-d520-434c-ac73-5a8eda0b346e",
   "metadata": {},
   "source": [
    "Stampare i primi N numeri della sequenza di Fibonacci, dove N è inserito dall'utente."
   ]
  },
  {
   "cell_type": "code",
   "execution_count": 2,
   "id": "1e1e57f0-0f4a-4506-8329-d47681419857",
   "metadata": {
    "tags": []
   },
   "outputs": [
    {
     "name": "stdin",
     "output_type": "stream",
     "text": [
      "scrivi un numero 159\n"
     ]
    },
    {
     "name": "stdout",
     "output_type": "stream",
     "text": [
      "[0, 1, 1, 2, 3, 5, 8, 13, 21, 34, 55, 89, 144, 233]\n"
     ]
    }
   ],
   "source": [
    "# prendo un input \n",
    "# 0,1, 1, 2, 3, 5, 8..\n",
    "# creo una lista in cui metto [0,1] che sono i primi due numeri della sequenza \n",
    "# il numero successivo è la somma dei due numeri precedenti \n",
    "# nu1,num2, num3(num1+ num2), num4 (num2+num3)\n",
    "# sommo 0+1 \n",
    "# aggiungo il risultato alla lista \n",
    "# continuo aggiungendo l'ultimo numero a quello precedente e li aggiungo alla lista \n",
    "# quindi gli devo chiedere in loop aggiungimi alla lista il risultato della somma dell'ultimo numero a quello precedente \n",
    "# quale è il fattore che mi fa uscire dal ciclo? può essere finchè non raggiungo il numero dell'input oppure finchè non ho tot numeri nella lista \n",
    "\n",
    "Input = int(input(\"scrivi un numero\")) # ho creato il mio input\n",
    "\n",
    "lista = [0,1] # creo una lista con 0 e 1 che sono i primi due numeri \n",
    "\n",
    "\n",
    "# creo il loop\n",
    "\n",
    "while Input >= lista [-1] : #ripetimi le operazioni sotto fino a che l'ultimo numero della lista è maggiore del numero in input\n",
    "    num = lista [-2] + lista [-1] # sommo l'ultimo e il penltimo numero della lista \n",
    "    lista.append(num) #aggiungimi alla lista l'ultimo numero creato \n",
    "print(lista) \n",
    "\n"
   ]
  },
  {
   "cell_type": "markdown",
   "id": "429b4c22-4af4-44cb-a3a4-78f56ac2514c",
   "metadata": {},
   "source": [
    "## Es. 2"
   ]
  },
  {
   "cell_type": "markdown",
   "id": "78571cae-4add-4903-86c9-26851c661af5",
   "metadata": {},
   "source": [
    "Stampare i numeri da 1 a 100. Ma per i multipli di 3 stampa \"Fizz\" al posto del numero e per i multipli di 5 stampa \"Buzz\". Per i numeri che sono sia multipli di 3 che di 5, stampa \"FizzBuzz\"."
   ]
  },
  {
   "cell_type": "code",
   "execution_count": 6,
   "id": "f9a1bed1-2517-4fa0-b655-5136539b9cf5",
   "metadata": {
    "tags": []
   },
   "outputs": [
    {
     "name": "stdout",
     "output_type": "stream",
     "text": [
      "1\n",
      "2\n",
      "Fizz\n",
      "4\n",
      "Buzz\n",
      "Fizz\n",
      "7\n",
      "8\n",
      "Fizz\n",
      "Buzz\n",
      "11\n",
      "Fizz\n",
      "13\n",
      "14\n",
      "FizzBuzz\n",
      "16\n",
      "17\n",
      "Fizz\n",
      "19\n",
      "Buzz\n",
      "Fizz\n",
      "22\n",
      "23\n",
      "Fizz\n",
      "Buzz\n",
      "26\n",
      "Fizz\n",
      "28\n",
      "29\n",
      "FizzBuzz\n",
      "31\n",
      "32\n",
      "Fizz\n",
      "34\n",
      "Buzz\n",
      "Fizz\n",
      "37\n",
      "38\n",
      "Fizz\n",
      "Buzz\n",
      "41\n",
      "Fizz\n",
      "43\n",
      "44\n",
      "FizzBuzz\n",
      "46\n",
      "47\n",
      "Fizz\n",
      "49\n",
      "Buzz\n",
      "Fizz\n",
      "52\n",
      "53\n",
      "Fizz\n",
      "Buzz\n",
      "56\n",
      "Fizz\n",
      "58\n",
      "59\n",
      "FizzBuzz\n",
      "61\n",
      "62\n",
      "Fizz\n",
      "64\n",
      "Buzz\n",
      "Fizz\n",
      "67\n",
      "68\n",
      "Fizz\n",
      "Buzz\n",
      "71\n",
      "Fizz\n",
      "73\n",
      "74\n",
      "FizzBuzz\n",
      "76\n",
      "77\n",
      "Fizz\n",
      "79\n",
      "Buzz\n",
      "Fizz\n",
      "82\n",
      "83\n",
      "Fizz\n",
      "Buzz\n",
      "86\n",
      "Fizz\n",
      "88\n",
      "89\n",
      "FizzBuzz\n",
      "91\n",
      "92\n",
      "Fizz\n",
      "94\n",
      "Buzz\n",
      "Fizz\n",
      "97\n",
      "98\n",
      "Fizz\n",
      "Buzz\n"
     ]
    }
   ],
   "source": [
    "# creare un loop per stampare i numeri da 1 a 100 \n",
    "# se un numero è multiplo di tre %3 stampare \"Fizz\" \n",
    "# se un numero è multiplo di cinque %5 stampare \"Buzz\" \n",
    "# se un numero è multiplo di tre e cinque %3 and %5 stampare \"FrizzBuzz\"\n",
    "\n",
    "numero= 1\n",
    "\n",
    "while numero <= 100: \n",
    "    if numero %3 == 0 and numero % 5  == 0:\n",
    "        print (\"FizzBuzz\") \n",
    "    elif numero % 3 == 0:\n",
    "        print (\"Fizz\") \n",
    "    elif numero % 5 == 0:\n",
    "        print (\"Buzz\") \n",
    "    \n",
    "    else: \n",
    "        print(numero)\n",
    "    numero += 1 "
   ]
  },
  {
   "cell_type": "markdown",
   "id": "72d2f44d-dd05-4745-b5c7-b06d66a0fc87",
   "metadata": {},
   "source": [
    "## Es. 3"
   ]
  },
  {
   "cell_type": "markdown",
   "id": "aae60d8a-ec24-45e7-880e-3cbc155c12b1",
   "metadata": {},
   "source": [
    "Date due liste di numeri, restituire una nuova lista contenente la somma degli elementi corrispondenti nelle due liste."
   ]
  },
  {
   "cell_type": "code",
   "execution_count": 1,
   "id": "e154cff3-f826-4dec-b425-b0133ee28a20",
   "metadata": {
    "tags": []
   },
   "outputs": [],
   "source": [
    "lista_a = [1, 2, 3, 4, 5, 6, 7, 8, 9, 10]\n",
    "lista_b = [101, 102, 103, 104, 105, 106, 107, 108, 109, 110]"
   ]
  },
  {
   "cell_type": "code",
   "execution_count": 9,
   "id": "fad9f4fb-15c4-401c-ad02-7d005daa3bd3",
   "metadata": {
    "tags": []
   },
   "outputs": [
    {
     "name": "stdout",
     "output_type": "stream",
     "text": [
      "[102, 104, 106, 108, 110, 112, 114, 116, 118, 120]\n"
     ]
    }
   ],
   "source": [
    "# abbiamo due liste, lista a e lista b, devo creare una terza lista dove vengono sommati gli elementi di lista a + elementi di lista b \n",
    "\n",
    "\n",
    "lista_a = [1, 2, 3, 4, 5, 6, 7, 8, 9, 10]\n",
    "lista_b = [101, 102, 103, 104, 105, 106, 107, 108, 109, 110]\n",
    "ind = 0 \n",
    "lista_c = []\n",
    "\n",
    "while ind < len(lista_a):\n",
    "    lista_c.append(lista_a [ind] + lista_b[ind] )\n",
    "    ind += 1 \n",
    "\n",
    "print ( lista_c) \n"
   ]
  },
  {
   "cell_type": "markdown",
   "id": "988dc90d-77a3-4ec6-8594-8c1de0d13773",
   "metadata": {},
   "source": [
    "## Es. 4"
   ]
  },
  {
   "cell_type": "markdown",
   "id": "9ddefe4f-bf75-42d2-92cb-e2a0620e09b7",
   "metadata": {},
   "source": [
    "Data una stringa inserita dall'utente, restituire una nuova stringa con le vocali raddoppiate."
   ]
  },
  {
   "cell_type": "code",
   "execution_count": 17,
   "id": "419e6e04-5b00-41e3-997f-4ce8d18735a6",
   "metadata": {
    "tags": []
   },
   "outputs": [
    {
     "name": "stdin",
     "output_type": "stream",
     "text": [
      "Inserisci una frase Ciao mi chiamo Melissa ho 31 anni \n"
     ]
    },
    {
     "ename": "TypeError",
     "evalue": "'in <string>' requires string as left operand, not list",
     "output_type": "error",
     "traceback": [
      "\u001b[1;31m---------------------------------------------------------------------------\u001b[0m",
      "\u001b[1;31mTypeError\u001b[0m                                 Traceback (most recent call last)",
      "Cell \u001b[1;32mIn[17], line 15\u001b[0m\n\u001b[0;32m     11\u001b[0m Listavocali \u001b[38;5;241m=\u001b[39m Listavocali2\n\u001b[0;32m     13\u001b[0m Testo \u001b[38;5;241m=\u001b[39m \u001b[38;5;28minput\u001b[39m(\u001b[38;5;124m\"\u001b[39m\u001b[38;5;124mInserisci una frase\u001b[39m\u001b[38;5;124m\"\u001b[39m)\n\u001b[1;32m---> 15\u001b[0m \u001b[38;5;28;01mif\u001b[39;00m vocali \u001b[38;5;129;01min\u001b[39;00m Testo:\n\u001b[0;32m     16\u001b[0m     \u001b[38;5;28mprint\u001b[39m(vocali)\n",
      "\u001b[1;31mTypeError\u001b[0m: 'in <string>' requires string as left operand, not list"
     ]
    }
   ],
   "source": [
    "# creo una lista con le vocali\n",
    "# input in cui si inserisce il testo\n",
    "# se in questa stringa mi trova le vocali nella lista \n",
    "# creare una nuova lista vocali uguale a quella con le vocali aggiunte \n",
    "# stampami lista vocali 1 + lista vocali 2 \n",
    "\n",
    "vocali = [ \"a\", \"e\", \"i\", \"o\", \"u\"] \n",
    "\n",
    "Listavocali=[]\n",
    "Listavocali2=[]\n",
    "Listavocali = Listavocali2\n",
    "\n",
    "Testo = input(\"Inserisci una frase\")\n",
    "\n",
    "if vocali in Testo:\n",
    "    print(vocali)\n"
   ]
  },
  {
   "cell_type": "markdown",
   "id": "4ead13ad-ac69-4057-b122-7077450f8657",
   "metadata": {},
   "source": [
    "## Es. 5"
   ]
  },
  {
   "cell_type": "markdown",
   "id": "58d97a56-839c-489f-92f0-bc63650a5f8b",
   "metadata": {},
   "source": [
    "Fatemi giocare a sasso-carta-forbice contro il computer. Trovate un modo."
   ]
  },
  {
   "cell_type": "code",
   "execution_count": null,
   "id": "789ed4c3-4529-482d-8c87-c88bc11c70ef",
   "metadata": {
    "tags": []
   },
   "outputs": [],
   "source": []
  }
 ],
 "metadata": {
  "kernelspec": {
   "display_name": "Python 3 (ipykernel)",
   "language": "python",
   "name": "python3"
  },
  "language_info": {
   "codemirror_mode": {
    "name": "ipython",
    "version": 3
   },
   "file_extension": ".py",
   "mimetype": "text/x-python",
   "name": "python",
   "nbconvert_exporter": "python",
   "pygments_lexer": "ipython3",
   "version": "3.11.5"
  }
 },
 "nbformat": 4,
 "nbformat_minor": 5
}
